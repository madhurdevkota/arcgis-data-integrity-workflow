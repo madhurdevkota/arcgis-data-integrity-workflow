{
 "cells": [
  {
   "cell_type": "code",
   "execution_count": null,
   "id": "4d0b1e98",
   "metadata": {},
   "outputs": [],
   "source": [
    "### import libraies\n",
    "import arcpy\n",
    "import pandas as pd\n",
    "import numpy as np\n",
    "import os"
   ]
  },
  {
   "cell_type": "code",
   "execution_count": 30,
   "id": "1a0bb448",
   "metadata": {},
   "outputs": [],
   "source": [
    "\n",
    "coordSys = \"PROJCS['WGS_1984_Web_Mercator_Auxiliary_Sphere',GEOGCS['GCS_WGS_1984',DATUM['D_WGS_1984',SPHEROID['WGS_1984',6378137.0,298.257223563]],PRIMEM['Greenwich',0.0],UNIT['Degree',0.0174532925199433]],PROJECTION['Mercator_Auxiliary_Sphere'],PARAMETER['False_Easting',0.0],PARAMETER['False_Northing',0.0],PARAMETER['Central_Meridian',0.0],PARAMETER['Standard_Parallel_1',0.0],PARAMETER['Auxiliary_Sphere_Type',0.0],UNIT['Meter',1.0]]\"\n",
    "gdb_path = r'E:\\Project_DataIntegrity\\Municipality.gdb'\n",
    "main_dir = r'E:\\Project_DataIntegrity'\n",
    "spatial_Reference = \"PROJCS['NAD_1983_StatePlane_California_VI_FIPS_0406_Feet',GEOGCS['GCS_North_American_1983',DATUM['D_North_American_1983',SPHEROID['GRS_1980',6378137.0,298.257222101]],PRIMEM['Greenwich',0.0],UNIT['Degree',0.0174532925199433]],PROJECTION['Lambert_Conformal_Conic'],PARAMETER['False_Easting',6561666.666666666],PARAMETER['False_Northing',1640416.666666667],PARAMETER['Central_Meridian',-116.25],PARAMETER['Standard_Parallel_1',32.78333333333333],PARAMETER['Standard_Parallel_2',33.88333333333333],PARAMETER['Latitude_Of_Origin',32.16666666666666],UNIT['Foot_US',0.3048006096012192]];-118608900 -91259500 3048.00609601219;-100000 10000;-100000 10000;3.28083333333333E-03;0.001;0.001;IsHighPrecision\"\n",
    "\n",
    "### create feature dataset inside file gdb\n",
    "featureDataset_name_ls  = [ 'Boundaries', 'Transportation', 'Education' ]"
   ]
  },
  {
   "cell_type": "markdown",
   "id": "244b3a8f",
   "metadata": {},
   "source": [
    "#### Geodatabase fundamental schema\n",
    "\n",
    "<img src= 'images/GDB_schema_breakdown.png' alt= 'Geodatabase simple schema' width= '600'/>"
   ]
  },
  {
   "cell_type": "code",
   "execution_count": null,
   "id": "a73f67f4",
   "metadata": {},
   "outputs": [],
   "source": [
    "#### create a geodatabase\n",
    "featureDataset_name_ls  = [ 'Boundaries', 'Transportation', 'Education' ]\n",
    "with arcpy.EnvManager( outputCoordinateSystem= coordSys ):\n",
    "    for e_featureDataset in featureDataset_name_ls:\n",
    "        arcpy.management.CreateFeatureDataset(   out_dataset_path= gdb_path, out_name= e_featureDataset, spatial_reference= spatial_Reference   )"
   ]
  },
  {
   "cell_type": "code",
   "execution_count": 7,
   "id": "24365f10",
   "metadata": {},
   "outputs": [
    {
     "data": {
      "text/plain": [
       "'E:\\\\Project_DataIntegrity\\\\Boundaries\\\\sd_city95.shp;E:\\\\Project_DataIntegrity\\\\Boundaries\\\\sd_own.shp;E:\\\\Project_DataIntegrity\\\\Boundaries\\\\sd_tract.shp;'"
      ]
     },
     "execution_count": 7,
     "metadata": {},
     "output_type": "execute_result"
    }
   ],
   "source": [
    "### import feature class into gdb (Boundaries) from shp files\n",
    "feature_name_ls = [ 'sd_city95.shp', 'sd_own.shp', 'sd_tract.shp' ]\n",
    "source_dir = 'Boundaries'\n",
    "feature_source_path = os.path.join( main_dir, source_dir )\n",
    "\n",
    "feature_ls = ';'.join(  os.path.join(feature_source_path, e_featureNm) for e_featureNm in feature_name_ls  ) + ';'\n",
    "target_gdb = os.path.join( gdb_path, 'Boundaries' )\n",
    "\n",
    "arcpy.conversion.FeatureClassToGeodatabase( Input_Features= feature_ls, Output_Geodatabase= target_gdb )\n",
    "\n",
    "\n",
    "### import feature class into gdb (Education) from shp file\n",
    "feature_name_ls = [ 'sd_colleges.shp' ]\n",
    "source_dir = 'Education'\n",
    "feature_source_path = os.path.join( main_dir, source_dir )\n",
    "\n",
    "feature_ls = ';'.join(  os.path.join(feature_source_path, e_featureNm) for e_featureNm in feature_name_ls  ) + ';'\n",
    "target_gdb = os.path.join( gdb_path, 'Education' )\n",
    "\n",
    "arcpy.conversion.FeatureClassToGeodatabase( Input_Features= feature_ls, Output_Geodatabase= target_gdb )\n",
    "\n",
    "### import feature class into gdb (Transportation)  from shp files\n",
    "feature_name_ls = [ 'sd_railstop.shp', 'sd_rr.shp' ]\n",
    "source_dir = 'Transportation'\n",
    "feature_source_path = os.path.join( main_dir, source_dir )\n",
    "\n",
    "feature_ls = ';'.join(  os.path.join(feature_source_path, e_featureNm) for e_featureNm in feature_name_ls  ) + ';'\n",
    "target_gdb = os.path.join( gdb_path, 'Transportation' )\n",
    "\n",
    "arcpy.conversion.FeatureClassToGeodatabase( Input_Features= feature_ls, Output_Geodatabase= target_gdb )"
   ]
  },
  {
   "cell_type": "code",
   "execution_count": null,
   "id": "83043b2e",
   "metadata": {},
   "outputs": [
    {
     "data": {
      "text/plain": [
       "'E:\\\\Project_DataIntegrity\\\\Municipality.gdb\\\\Education\\\\sd_schools'"
      ]
     },
     "execution_count": 16,
     "metadata": {},
     "output_type": "execute_result"
    }
   ],
   "source": [
    "_target_feature = r'Education\\sd_schools'\n",
    "target_feature = os.path.join( gdb_path, _target_feature )\n",
    "target_feature"
   ]
  },
  {
   "cell_type": "code",
   "execution_count": null,
   "id": "bdb3cd34",
   "metadata": {},
   "outputs": [],
   "source": [
    "### import CAD feature into gdb (Transportation)\n",
    "\n",
    "_cad_feature = 'cad_files\\schools.DWG\\Point'\n",
    "cad_feature = os.path.join( main_dir, _cad_feature )\n",
    "\n",
    "_target_feature = r'Education\\sd_schools'\n",
    "target_feature = os.path.join( gdb_path, _target_feature )\n",
    "\n",
    "\n",
    "arcpy.conversion.ExportFeatures( in_features= cad_feature, out_features= target_feature,\n",
    "    where_clause= '', use_field_alias_as_name= 'NOT_USE_ALIAS',\n",
    "    sort_field= None\n",
    ")"
   ]
  },
  {
   "cell_type": "markdown",
   "id": "f3420034",
   "metadata": {},
   "source": [
    "<br><hr>\n",
    "\n",
    "#### Defining `Subtypes` and implementing on parcel data.\n",
    "\n",
    "<hr><br>\n",
    "\n",
    "\n",
    "##### A relationship class establishes a schematic link between feature classes and subtypes.\n",
    "\n",
    "<BR>\n",
    "\n",
    "<img src= 'images/Maintaining_Attribute_Integrity_1.png' alt= 'Geodatabase simple schema' width= '500'/>\n"
   ]
  },
  {
   "cell_type": "code",
   "execution_count": 18,
   "id": "bc6241d1",
   "metadata": {},
   "outputs": [
    {
     "data": {
      "text/plain": [
       "'E:\\\\Project_DataIntegrity\\\\Municipality.gdb\\\\landParcels'"
      ]
     },
     "execution_count": 18,
     "metadata": {},
     "output_type": "execute_result"
    }
   ],
   "source": [
    "featureClass_nm = 'landParcels'\n",
    "featureClass_path = os.path.join( gdb_path, featureClass_nm )"
   ]
  },
  {
   "cell_type": "code",
   "execution_count": null,
   "id": "50ffee5e",
   "metadata": {},
   "outputs": [],
   "source": [
    "### field to use for subtypes\n",
    "subtype_field = 'LOT_TYPE'\n",
    "### set the subtype field\n",
    "arcpy.SetSubtypeField_management( featureClass_path, subtype_field )\n",
    "\n",
    "## Add subtypes (Code, Name)\n",
    "arcpy.AddSubtype_management( featureClass_path, 1, 'RESIDENTIAL - SINGLE FAMILY' )\n",
    "arcpy.AddSubtype_management( featureClass_path, 2, 'RESIDENTIAL - MULTI FAMILY' )\n",
    "arcpy.AddSubtype_management( featureClass_path, 3, 'FLATS/CONVERSIONS' )\n",
    "arcpy.AddSubtype_management( featureClass_path, 4, 'GARAGE/UNIMPROVED LAND' )\n",
    "arcpy.AddSubtype_management( featureClass_path, 6, 'COMMERCIAL' )\n",
    "\n",
    "default_LotType_code = 1  ## set a default subtype\n",
    "arcpy.SetDefaultSubtype_management( featureClass_path, default_LotType_code )"
   ]
  },
  {
   "cell_type": "code",
   "execution_count": null,
   "id": "49c1a029",
   "metadata": {},
   "outputs": [],
   "source": [
    "#### create relationship class\n",
    "\n",
    "relation_feature_class = os.path.join( gdb_path, 'Parcel_Building_Relation' )\n",
    "\n",
    "arcpy.management.CreateRelationshipClass(\n",
    "    origin_table= 'landParcels', destination_table='BuildingOutlines', out_relationship_class= relation_feature_class,\n",
    "    relationship_type= 'COMPOSITE', forward_label= 'BuildingOutlines', backward_label='landParcels',\n",
    "    message_direction='NONE', cardinality='ONE_TO_MANY', attributed='NONE',\n",
    "    origin_primary_key='OID', origin_foreign_key='OID',\n",
    ")"
   ]
  },
  {
   "cell_type": "markdown",
   "id": "daa180f5",
   "metadata": {},
   "source": [
    "<br><hr>\n",
    "\n",
    "#### Defining `Domain` and implementing.\n",
    "<hr><br>\n",
    "\n",
    "##### Domain values provide additional information by specifying the values that each domain contains.\n",
    "<br>"
   ]
  },
  {
   "cell_type": "code",
   "execution_count": 21,
   "id": "0487e1fe",
   "metadata": {},
   "outputs": [
    {
     "data": {
      "text/plain": [
       "'E:\\\\Project_DataIntegrity\\\\Municipality.gdb\\\\Roads\\\\Park_roads'"
      ]
     },
     "execution_count": 21,
     "metadata": {},
     "output_type": "execute_result"
    }
   ],
   "source": [
    "feature_class_nm = 'Roads\\Park_roads'\n",
    "feature_class = os.path.join( gdb_path, feature_class_nm )"
   ]
  },
  {
   "cell_type": "code",
   "execution_count": 35,
   "id": "5727d5dd",
   "metadata": {},
   "outputs": [
    {
     "name": "stdout",
     "output_type": "stream",
     "text": [
      "Domain - Accessibility created.\n",
      "Coded values added to Accessibility.\n",
      "Domain - Accessibility assigned to field - UNPAVED.\n"
     ]
    }
   ],
   "source": [
    "##  assign Domain parameters \n",
    "domain_name1 = 'Accessibility'\n",
    "domain_desc1 = 'Road type based on access'\n",
    "field_type = 'TEXT'  \n",
    "domain_type = 'CODED'\n",
    "split_policy = 'DUPLICATE'\n",
    "field_name1= 'UNPAVED'\n",
    "coded_values1 = {  'No': 'Unpaved Road',  'Yes': 'Paved Road'  }\n",
    "\n",
    "##  Create the domain \n",
    "existing_domains = arcpy.da.Listexisting_domains( gdb_path )\n",
    "# check if it exists already\n",
    "if any(  d.name == domain_name1  for d in existing_domains  ):\n",
    "    print( f'Domain - {domain_name1} already exists. Skipping creation.' )\n",
    "else:\n",
    "    arcpy.management.CreateDomain(\n",
    "        in_workspace= gdb_path, domain_name= domain_name1,\n",
    "        domain_description= domain_desc1, field_type= field_type, domain_type= domain_type, split_policy= split_policy\n",
    "    )\n",
    "    print( f'Domain - {domain_name1} created.' )\n",
    "    \n",
    "## add domain coded values\n",
    "try:\n",
    "    for code, desc in coded_values1.items():\n",
    "        arcpy.management.AddCodedValueToDomain( in_workspace=gdb_path,\n",
    "            domain_name= domain_name1, code= code, code_description= desc\n",
    "        )\n",
    "    print( f'Coded values added to {domain_name1}.' )\n",
    "except Exception as e:\n",
    "    print( f'Error adding coded values to domain: {e}' )\n",
    "\n",
    "## Assign the domain to the UNPAVED field \n",
    "try: \n",
    "    arcpy.management.AssignDomainToField( in_table= feature_class,\n",
    "        field_name= field_name1, domain_name= domain_name1  )\n",
    "    print( f'Domain - {domain_name1} assigned to field - {field_name1}.' )\n",
    "except Exception as e:\n",
    "    print( f'Error assigning domain: {e}' )"
   ]
  },
  {
   "cell_type": "code",
   "execution_count": 24,
   "id": "57b664dc",
   "metadata": {},
   "outputs": [
    {
     "name": "stdout",
     "output_type": "stream",
     "text": [
      "Confirmed: Domain coded values match expected values.\n"
     ]
    }
   ],
   "source": [
    "## QAQC : check code that confirms the respective domain values have been set\n",
    "\n",
    "field_domain = [  f.domain for f in arcpy.ListFields(feature_class) if f.name == field_name1  ]\n",
    "\n",
    "if domain_name1 in field_domain:\n",
    "    print(f\"Confirmed: Field {field_name1} has domain '{domain_name1}'.\")\n",
    "    domain_obj = next( (d for d in arcpy.da.ListDomains(gdb_path) if d.name == domain_name1), None)\n",
    "    if domain_obj and hasattr(domain_obj, 'codedValues'):\n",
    "        if domain_obj.codedValues == coded_values1:  print('Confirmed: Domain coded values match expected values.')\n",
    "        else:\n",
    "            print('Warning: Domain coded values do not match expected values.\\n')\n",
    "            print( f'Actual Code values --> {domain_obj.codedValues}\\nCurrent coded values --> {coded_values1}' ) \n",
    "\n",
    "else:  print(f\"Error: Domain '{domain_name1}' not assigned to field {field_name1}.\")"
   ]
  },
  {
   "cell_type": "markdown",
   "id": "d9558ed8",
   "metadata": {},
   "source": [
    "<br>\n",
    "\n",
    "### Create `Contingent values` in an attribute field\n",
    "\n",
    "    - integrate attributes containing seasonal & unpaved roads\n",
    "    - set up the domains with the corresponding attributes\n",
    "    - build contingent values\n",
    "    - could be used to validate safety & drivability"
   ]
  },
  {
   "cell_type": "code",
   "execution_count": 26,
   "id": "6050d552",
   "metadata": {},
   "outputs": [
    {
     "name": "stdout",
     "output_type": "stream",
     "text": [
      "Domain 'Seasonality' created.\n",
      "Coded values added to 'Seasonality'.\n",
      "Domain 'Seasonality' assigned to field 'SEASONAL'.\n"
     ]
    }
   ],
   "source": [
    "### Create domain\n",
    "\n",
    "##  assign Domain parameters \n",
    "domain_name2 = 'Seasonality'\n",
    "domain_desc2 = 'Roads access during seasons'\n",
    "field_type = 'TEXT'  \n",
    "domain_type = 'CODED'\n",
    "split_policy = 'DUPLICATE'\n",
    "field_name2 = 'SEASONAL'\n",
    "coded_values2 = {  'No': 'Open all year round',  'Yes': 'Open during season only'  }\n",
    "\n",
    "##  Create the domain \n",
    "\n",
    "domains = arcpy.da.ListDomains(gdb_path)\n",
    "# check if it exists already\n",
    "if any( d.name == domain_name2 for d in domains ):\n",
    "    print(f\"Domain '{domain_name2}' already exists. Skipping creation.\")\n",
    "else:\n",
    "    arcpy.management.CreateDomain(\n",
    "        in_workspace= gdb_path, domain_name= domain_name2,\n",
    "        domain_description= domain_desc2, field_type= field_type, domain_type= domain_type, split_policy= split_policy\n",
    "    )\n",
    "    print(f\"Domain '{domain_name2}' created.\")\n",
    "\n",
    "## add domain coded values\n",
    "try:\n",
    "    for code, desc in coded_values2.items():\n",
    "        arcpy.management.AddCodedValueToDomain( in_workspace=gdb_path,\n",
    "            domain_name= domain_name2, code= code, code_description= desc\n",
    "        )\n",
    "    print(f\"Coded values added to '{domain_name2}'.\")\n",
    "except Exception as e:\n",
    "    print(f'Error adding coded values to domain: {e}')\n",
    "\n",
    "\n",
    "## Assign the domain to the field field_name\n",
    "try:\n",
    "    arcpy.management.AssignDomainToField( in_table= feature_class,\n",
    "        field_name= field_name2, domain_name= domain_name2  )\n",
    "    print( f\"Domain '{domain_name2}' assigned to field '{field_name2}'.\" )\n",
    "except Exception as e:\n",
    "    print( f'Error assigning domain: {e}' )"
   ]
  },
  {
   "cell_type": "code",
   "execution_count": 27,
   "id": "6447f58c",
   "metadata": {},
   "outputs": [
    {
     "name": "stdout",
     "output_type": "stream",
     "text": [
      "Confirmed: Domain coded values match expected values.\n"
     ]
    }
   ],
   "source": [
    "#### check code that confirms the respective domain values have been set\n",
    "\n",
    "field_domain = [  f.domain for f in arcpy.ListFields(feature_class) if f.name == field_name2  ]\n",
    "\n",
    "if domain_name2 in field_domain:\n",
    "    print(  f\"Confirmed: Field {field_name2} has domain '{domain_name2}'.\"  )\n",
    "    domain_obj = next( (d for d in arcpy.da.ListDomains(gdb_path) if d.name == domain_name2), None)\n",
    "    if domain_obj and hasattr(domain_obj, 'codedValues'):\n",
    "        if domain_obj.codedValues == coded_values2:  print('Confirmed: Domain coded values match expected values.')\n",
    "        else:\n",
    "            print( 'Warning: Domain coded values do not match expected values.\\n' )\n",
    "            print( f'Actual Code values --> {domain_obj.codedValues}\\nCurrent coded values --> {coded_values2}' ) \n",
    " \n",
    "else:  print( f\"Error: Domain '{domain_name2}' not assigned to field {field_name2}.\" )\n",
    "\n",
    "print('Confirmed: Domain coded values match expected values.')"
   ]
  },
  {
   "cell_type": "code",
   "execution_count": null,
   "id": "5e459ea1",
   "metadata": {},
   "outputs": [],
   "source": [
    "# Create the field group used by contingent values.\n",
    "\n",
    "field_grp_nm = 'SafeDrivability'\n",
    "fields2add = [ field_name1, field_name2 ]\n",
    "\n",
    "arcpy.management.CreateFieldGroup(\n",
    "    target_table= feature_class, \n",
    "    name= field_grp_nm, fields= fields2add, is_restrictive= 'RESTRICT' \n",
    ")\n",
    "\n",
    "## Add the two contingent-value set\n",
    "\n",
    "### for contigency 'Paved Road' --> 'Open All Year Round'\n",
    "contigency_val_1 = [\n",
    "    [  field_name1, 'CODED_VALUE', 'Yes' ],  ## translates to  UNPAVED  --> 'Paved Road'\n",
    "    [  field_name2, 'CODED_VALUE', 'No'  ]   ## translates to  SEASONAL --> 'Open All Year Round'\n",
    "]\n",
    "\n",
    "### for contigency  'Unpaved Road'  --> 'Open during season only'\n",
    "contigency_val_2 = [\n",
    "    [  field_name1, 'CODED_VALUE', 'No'   ],    ## translates to  UNPAVED  --> 'Unpaved Road'\n",
    "    [  field_name2, 'CODED_VALUE', 'Yes'  ]     ## translates to  SEASONAL --> 'Open during season only'\n",
    "]\n",
    "\n",
    "### add contingency 1\n",
    "arcpy.management.AddContingentValue(\n",
    "    target_table= feature_class, field_group_name= field_grp_nm,\n",
    "    values= contigency_val_1, subtype= None, retire_value= 'DO_NOT_RETIRE'\n",
    ")\n",
    "\n",
    "## add contingency 2\n",
    "arcpy.management.AddContingentValue(\n",
    "    feature_class, field_grp_nm,\n",
    "    contigency_val_2, subtype= None, retire_value= 'DO_NOT_RETIRE'\n",
    ")"
   ]
  },
  {
   "cell_type": "code",
   "execution_count": 28,
   "id": "d42f1c36",
   "metadata": {},
   "outputs": [
    {
     "data": {
      "text/plain": [
       "'E:\\\\Project_DataIntegrity\\\\Municipality.gdb\\\\PipeSystem\\\\Pipes'"
      ]
     },
     "execution_count": 28,
     "metadata": {},
     "output_type": "execute_result"
    }
   ],
   "source": [
    "## paths\n",
    "feature_dataset_nm = 'PipeSystem'\n",
    "feature_class_nm = 'Pipes'\n",
    "feature_class = os.path.join( gdb_path, feature_dataset_nm, feature_class_nm )\n",
    "feature_class"
   ]
  },
  {
   "cell_type": "code",
   "execution_count": null,
   "id": "73cfd2e3",
   "metadata": {},
   "outputs": [],
   "source": [
    "desc = arcpy.Describe(feature_class)\n",
    "### GlobalIDs are required; add if missing (pre-requisites for validation rules)\n",
    "if not getattr( desc, 'hasGlobalID', False ):\n",
    "    arcpy.management.AddGlobalIDs( [feature_class] ) \n",
    "\n",
    "## Editor tracking must be enabled for VALIDATION rules\n",
    "try:\n",
    "    arcpy.management.EnableEditorTracking(\n",
    "        in_dataset=feature_class, creator_field= 'created_user', creation_date_field= 'created_date',\n",
    "        last_editor_field= 'last_edited_user', last_edit_date_field= 'last_edited_date',\n",
    "        add_fields= 'ADD_FIELDS', record_dates_in= 'UTC'\n",
    "    )\n",
    "except arcpy.ExecuteError:  ## If already enabled or fields exist, skip\n",
    "    print( 'Editor tracking already enabled or fields exist. Skipping...' )\n",
    "    pass\n",
    "\n",
    "### hard-coded Arcade expression for validation -->\n",
    "## This expression checks if the wall thickness is between 0.13 and 0.6 and the operating pressure is between 40 and 44.\n",
    "## If both conditions are met, it returns 'Pass', otherwise it returns 'Fail'.\n",
    "arcade_expr = r'''\n",
    "var wallThickness = $feature.WALLTHICKNESS; \n",
    "var operatingPressure = $feature.OPERATINGPRESSURE; \n",
    "var WallStatus = IIf(wallThickness >= 0.13 && wallThickness <= 0.6, 'Pass', 'Fail'); \n",
    "var PressureStatus = IIf(operatingPressure >= 40 && operatingPressure <= 44, 'Pass', 'Fail'); \n",
    "var PipeValid = IIf(WallStatus == 'Pass' && PressureStatus == 'Pass', 'Pass', 'Fail'); \n",
    "return PipeValid == 'Pass';\n",
    "'''\n",
    "\n",
    "### Add the validation rule to the Pipes feature class\n",
    "arcpy.management.AddAttributeRule(\n",
    "    in_table= feature_class, name= 'ResidentialPipes', \n",
    "    type= 'VALIDATION', script_expression= arcade_expr,\n",
    "    error_number= 101, error_message= 'Invalid entry',\n",
    "    description= 'Making sure that the pipe wall thickness and operating pressure is within safe range for residential use.',\n",
    "    subtype= 'Plastic PE',         # scope to the Plastic PE subtype\n",
    "    batch= 'BATCH'                 # required for VALIDATION rules\n",
    ")\n",
    "\n",
    "### update CONSTRAINT rule (PEPipes) with Insert/Update/Delete triggers ---\n",
    "arcpy.management.AddAttributeRule(\n",
    "    in_table= feature_class, name= 'PEPipes',\n",
    "    type= 'CONSTRAINT', script_expression= arcade_expr,\n",
    "    triggering_events= 'INSERT;UPDATE;DELETE',\n",
    "    error_number= 101, error_message= 'Invalid entry',\n",
    "    description= 'Making sure that the pipe wall thickness and operating pressure is within safe range for residential use.',\n",
    "    subtype= 'Plastic PE'          ## scope to the Plastic PE subtype\n",
    ")\n",
    "\n",
    "# run batch validation for the entire file geodatabase\n",
    "arcpy.management.EvaluateRules(\n",
    "    in_workspace= gdb_path, evaluation_types= 'VALIDATION_RULES'\n",
    ")\n"
   ]
  },
  {
   "cell_type": "markdown",
   "id": "722c59a7",
   "metadata": {},
   "source": [
    "<BR><HR>\n",
    "\n",
    "### Spatial Data Integrity\n",
    "\n",
    "<hr><br>\n",
    "\n",
    "\n",
    "\n",
    "##### Different topological relationship among Feature classes\n",
    "\n",
    "<BR>\n",
    "\n",
    "<img src= 'images/topology_relation.png' alt= 'topological relationship' width= '500'/>\n"
   ]
  },
  {
   "cell_type": "code",
   "execution_count": 46,
   "id": "1bde317d",
   "metadata": {},
   "outputs": [
    {
     "data": {
      "text/plain": [
       "'E:\\\\Project_DataIntegrity\\\\Municipality.gdb\\\\parcel\\\\City_Topology'"
      ]
     },
     "execution_count": 46,
     "metadata": {},
     "output_type": "execute_result"
    }
   ],
   "source": [
    "### input feature class paths\n",
    "\n",
    "road_feature_name = 'Roads\\Street'\n",
    "parcel_feature_name = 'parcel\\landParcels'\n",
    "building_feature_name = 'parcel\\BuildingOutlines'\n",
    "topology_name = 'parcel\\City_Topology'\n",
    "\n",
    "feature_dataset = os.path.join( gdb_path, 'parcel' )\n",
    "parcels_fc = os.path.join( gdb_path, parcel_feature_name )\n",
    "buildings_fc = os.path.join( gdb_path, building_feature_name )\n",
    "roads_fc = os.path.join( gdb_path, road_feature_name )\n",
    "topology_path = os.path.join( gdb_path, topology_name )"
   ]
  },
  {
   "cell_type": "code",
   "execution_count": null,
   "id": "24b0f4b6",
   "metadata": {},
   "outputs": [],
   "source": [
    "## Create a geodatabase topology (XY cluster tolerance = dataset default)\n",
    "arcpy.management.CreateTopology( in_dataset= feature_dataset, out_name= topology_name )  \n",
    "\n",
    "## Add the 3 feature classes to the topology rules with XY & Z Rank = 1\n",
    "for e_featureClass in ( parcels_fc, buildings_fc, roads_fc ):\n",
    "    arcpy.management.AddFeatureClassToTopology(\n",
    "        in_topology= topology_path, in_featureclass= e_featureClass,\n",
    "        xy_rank= 1, z_rank= 1\n",
    "    )\n",
    "\n",
    "## Add topology rules\n",
    "# --> Buildings must be contained within Parcels\n",
    "arcpy.management.AddRuleToTopology(\n",
    "    in_topology= topology_path, rule_type= 'Must Be Covered By (Area-Area)',\n",
    "    in_featureclass  = buildings_fc, subtype= '',\n",
    "    in_featureclass2 = parcels_fc, subtype2= ''\n",
    ")\n",
    "\n",
    "## --> Buildings polygons should not overlap  -> Must Not Overlap (Area)\n",
    "arcpy.management.AddRuleToTopology(\n",
    "    in_topology= topology_path, rule_type= 'Must Not Overlap (Area)',\n",
    "    in_featureclass= buildings_fc, subtype= ''\n",
    ") \n",
    "\n",
    "## -->  Parcels polygons should not overlap  -> Must Not Overlap (Area)\n",
    "arcpy.management.AddRuleToTopology(\n",
    "    in_topology= topology_path, rule_type= 'Must Not Overlap (Area)',\n",
    "    in_featureclass= parcels_fc, subtype= ''\n",
    ")"
   ]
  },
  {
   "cell_type": "code",
   "execution_count": null,
   "id": "65fe199d",
   "metadata": {},
   "outputs": [],
   "source": [
    "# Validate the topology over the full extent \n",
    "arcpy.management.ValidateTopology( in_topology= topology_path, visible_extent= 'FULL_EXTENT' )  \n",
    "\n",
    "## Export current errors to FCs for review\n",
    "topo_errors_fc = os.path.join( gdb_path, 'topology_errors' )\n",
    "arcpy.management.ExportTopologyErrors(\n",
    "    in_topology= topology_path, out_path= gdb_path, out_base_name= 'topoErr_'\n",
    ")  "
   ]
  }
 ],
 "metadata": {
  "kernelspec": {
   "display_name": "datascience_py39",
   "language": "python",
   "name": "python3"
  },
  "language_info": {
   "codemirror_mode": {
    "name": "ipython",
    "version": 3
   },
   "file_extension": ".py",
   "mimetype": "text/x-python",
   "name": "python",
   "nbconvert_exporter": "python",
   "pygments_lexer": "ipython3",
   "version": "3.9.19"
  }
 },
 "nbformat": 4,
 "nbformat_minor": 5
}
